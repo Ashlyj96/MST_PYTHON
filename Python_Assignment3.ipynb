{
  "nbformat": 4,
  "nbformat_minor": 0,
  "metadata": {
    "colab": {
      "provenance": []
    },
    "kernelspec": {
      "name": "python3",
      "display_name": "Python 3"
    },
    "language_info": {
      "name": "python"
    }
  },
  "cells": [
    {
      "cell_type": "markdown",
      "source": [
        "**Question.1**"
      ],
      "metadata": {
        "id": "OBAHoFKg79p_"
      }
    },
    {
      "cell_type": "markdown",
      "source": [
        "write a function that return middle value among three integer."
      ],
      "metadata": {
        "id": "G0UZ5jo_BRgP"
      }
    },
    {
      "cell_type": "code",
      "execution_count": 66,
      "metadata": {
        "colab": {
          "base_uri": "https://localhost:8080/"
        },
        "id": "RY2xzGaN5kNY",
        "outputId": "0d50549d-baf3-40f8-c84a-d02c3af98f09"
      },
      "outputs": [
        {
          "output_type": "stream",
          "name": "stdout",
          "text": [
            "enter first number:\n",
            "15\n",
            "enter second number:\n",
            "20\n",
            "enter third number:\n",
            "10\n",
            "middle number is: 15\n"
          ]
        }
      ],
      "source": [
        "def middle(a,b,c):\n",
        "    if((a<b and b<c) or (c<b and b<a)):\n",
        "        return b\n",
        "    if((b<a and a<c) or (c<a and a<b)):\n",
        "        return a\n",
        "    else:\n",
        "        return c\n",
        "\n",
        "\n",
        "a=int(input(\"enter first number:\\n\"))\n",
        "b=int(input(\"enter second number:\\n\"))\n",
        "c=int(input(\"enter third number:\\n\"))\n",
        "print(\"middle number is:\",middle(a,b,c))"
      ]
    },
    {
      "cell_type": "markdown",
      "source": [
        "**Question.2**"
      ],
      "metadata": {
        "id": "ad49WJAE8F-S"
      }
    },
    {
      "cell_type": "markdown",
      "source": [
        "build a calculator using function."
      ],
      "metadata": {
        "id": "IF4zEoMQA3gG"
      }
    },
    {
      "cell_type": "code",
      "source": [
        "def add():\n",
        "  n1=float(input(\"enter first number: \"))\n",
        "  n2=float(input(\"enter second number: \"))\n",
        "  return n1+n2\n",
        "\n",
        "def subt():\n",
        "  n1 =float(input(\"enter first number: \"))\n",
        "  n2=float(input(\"enter second number: \"))\n",
        "  return n1-n2\n",
        "def mul():\n",
        "  n1=float(input(\"enter first number: \"))\n",
        "  n2=float(input(\"enter second number: \"))\n",
        "  return n1*n2\n",
        "def div():\n",
        "  n1=float(input(\"enter first number: \"))\n",
        "  n2=float(input(\"enter second number: \"))\n",
        "  return n1/n2\n",
        "\n",
        "if __name__ == \"__main__\"  :\n",
        "    while True:\n",
        "       choice = input(\"1.Addition\\n2. Subtraction\\n3. Multiplication\\n4.Division\\n5.Exit\\n\")\n",
        "       if choice == '1':\n",
        "           print(\"The Sum is:\",add())\n",
        "       elif choice == '2':\n",
        "           print(\"The Difference is:\",subt())\n",
        "       elif choice == '3':\n",
        "           print(\"The Product is:\",mul())\n",
        "       elif choice == '4':\n",
        "           print(\"The   Quotient is:\",div())\n",
        "       elif choice == '5':\n",
        "           print(\"Exit\")\n",
        "           break\n",
        "       else:\n",
        "           print(\"enter correct choice!!\")"
      ],
      "metadata": {
        "colab": {
          "base_uri": "https://localhost:8080/"
        },
        "id": "85Ilf6AcCdu7",
        "outputId": "5801f6a3-0136-4641-bab6-637fb10ad396"
      },
      "execution_count": 67,
      "outputs": [
        {
          "output_type": "stream",
          "name": "stdout",
          "text": [
            "1.Addition\n",
            "2. Subtraction\n",
            "3. Multiplication\n",
            "4.Division\n",
            "5.Exit\n",
            "1\n",
            "enter first number: 5\n",
            "enter second number: 3\n",
            "The Sum is: 8.0\n",
            "1.Addition\n",
            "2. Subtraction\n",
            "3. Multiplication\n",
            "4.Division\n",
            "5.Exit\n",
            "2\n",
            "enter first number: 10\n",
            "enter second number: 5\n",
            "The Difference is: 5.0\n",
            "1.Addition\n",
            "2. Subtraction\n",
            "3. Multiplication\n",
            "4.Division\n",
            "5.Exit\n",
            "3\n",
            "enter first number: 5\n",
            "enter second number: 5\n",
            "The Product is: 25.0\n",
            "1.Addition\n",
            "2. Subtraction\n",
            "3. Multiplication\n",
            "4.Division\n",
            "5.Exit\n",
            "4\n",
            "enter first number: 20\n",
            "enter second number: 5\n",
            "The   Quotient is: 4.0\n",
            "1.Addition\n",
            "2. Subtraction\n",
            "3. Multiplication\n",
            "4.Division\n",
            "5.Exit\n",
            "5\n",
            "Exit\n"
          ]
        }
      ]
    },
    {
      "cell_type": "markdown",
      "source": [
        "**Question.3**"
      ],
      "metadata": {
        "id": "STsAaTyMJdJG"
      }
    },
    {
      "cell_type": "code",
      "source": [
        "def hyp(a,b):\n",
        "    h=(a**2 +b**2)**0.5\n",
        "    return h\n",
        "a=3\n",
        "b=4\n",
        "print(\"hypotenuse:\",hyp(a,b))"
      ],
      "metadata": {
        "colab": {
          "base_uri": "https://localhost:8080/"
        },
        "id": "UVlS3_OoJmLr",
        "outputId": "2f8191ce-2391-4a41-9b5c-1e43cd8dedc2"
      },
      "execution_count": 68,
      "outputs": [
        {
          "output_type": "stream",
          "name": "stdout",
          "text": [
            "hypotenuse: 5.0\n"
          ]
        }
      ]
    },
    {
      "cell_type": "code",
      "source": [
        "#write a function that takes the length 2 shorter side of right triangle.\n",
        "#return the hypotenuse of the triangle.using pythagorean theorem.\n",
        "\n",
        "from math import sqrt\n",
        "\n",
        "def length():\n",
        "    length=float(input(\"enter the side: \"))\n",
        "    return length\n",
        "\n",
        "side1=length()\n",
        "side2=length()\n",
        "def calc_Hypl(side1,side2):\n",
        "    side3= sqrt(side1 * side1 +side2 * side2)\n",
        "    print(\"Hypotenuse of the triangle: \", side3,'cm')\n",
        "\n",
        "calc_Hypl(side1,side2)"
      ],
      "metadata": {
        "colab": {
          "base_uri": "https://localhost:8080/"
        },
        "id": "z3vUp7bjQHTd",
        "outputId": "b50a51a2-f488-4014-8c89-3b1bd50a8bc2"
      },
      "execution_count": 70,
      "outputs": [
        {
          "output_type": "stream",
          "name": "stdout",
          "text": [
            "enter the side: 3\n",
            "enter the side: 4\n",
            "Hypotenuse of the triangle:  5.0 cm\n"
          ]
        }
      ]
    },
    {
      "cell_type": "markdown",
      "source": [
        "**Question.4**"
      ],
      "metadata": {
        "id": "v9RlgtmSW5dM"
      }
    },
    {
      "cell_type": "code",
      "source": [
        "# (a) create class Rectangle.\n",
        "# attributes: length,width.\n",
        "class Rectangle:\n",
        "    def __init__(self,length,width):\n",
        "       self.length = length\n",
        "       self.width  = width\n",
        "\n",
        "# (b) create Perimeter method() to find the perimeter of the rectangle\n",
        "#    create Area method() to find the area of the rectangle\n",
        "\n",
        "    def Perimeter(self):\n",
        "     return(2 * self.length + 2 * self.width)\n",
        "    def Area(self):\n",
        "     return(self.length * self.width)\n",
        "\n",
        " #(c)create Display() display the length,width,perimeter,area\n",
        "\n",
        "    def Display(self):\n",
        "      print(\"Length Of The Rectangle is:\",self.length,\"cm\")\n",
        "      print(\"Width Of The Rectangle is:\",self.width,\"cm\")\n",
        "l=int(input(\"enter the length of the rectangle:\"))\n",
        "w=int(input(\"enter the width of the rectangle:\"))\n",
        "\n",
        "obj=Rectangle( l, w)\n",
        "print(\"\")\n",
        "obj.Display()\n",
        "print(\"\")\n",
        "print(\"Area of Rectangle is:\",obj.Area(),\"cm^2\")\n",
        "print(\"Perimeter of Rectangle is:\",obj.Perimeter(),\"cm\")\n",
        "\n"
      ],
      "metadata": {
        "colab": {
          "base_uri": "https://localhost:8080/"
        },
        "id": "y6yO_FphxPln",
        "outputId": "e3ad3686-7db5-4203-c9ad-9d6576c4b14e"
      },
      "execution_count": 72,
      "outputs": [
        {
          "output_type": "stream",
          "name": "stdout",
          "text": [
            "enter the length of the rectangle:8\n",
            "enter the width of the rectangle:4\n",
            "\n",
            "Length Of The Rectangle is: 8 cm\n",
            "Width Of The Rectangle is: 4 cm\n",
            "\n",
            "Area of Rectangle is: 32 cm^2\n",
            "Perimeter of Rectangle is: 24 cm\n"
          ]
        }
      ]
    },
    {
      "cell_type": "markdown",
      "source": [
        "**Question.5**"
      ],
      "metadata": {
        "id": "z7gzKSumwppx"
      }
    },
    {
      "cell_type": "code",
      "source": [
        "# (a)create class BankAccount.\n",
        "#  attributes:accountNumber(numeric type),name(string),balance.\n",
        "# (b) create constructor with parameter = accountNumber,name,balance.\n",
        "\n",
        "class BankAccount:\n",
        "    def __init__(self,accountNumber,name,balance):\n",
        "        self.accountNumber = accountNumber\n",
        "        self.name          = name\n",
        "        self.balance       = balance\n",
        "\n",
        "# (c) create Deposit()\n",
        "\n",
        "    def Deposit(self,dep):\n",
        "       self.balance = self.balance + dep\n",
        "\n",
        "# (d) create with Withdrawal()\n",
        "\n",
        "    def Withdrawal(self,wit):\n",
        "       if(self.balance<wit):\n",
        "          print(\"Insufficient balance!!\")\n",
        "       else:\n",
        "          self.balance = self.balance - wit\n",
        "\n",
        "# (e) create bankFees()\n",
        "# bankFees with 5% of the balance account.\n",
        "\n",
        "    def bankFees(self):\n",
        "       self.balance = (95/100) *self.balance\n",
        "\n",
        "# (f) create Display()\n",
        "\n",
        "    def Display(self):\n",
        "        print(\"Account Number:\",self.accountNumber)\n",
        "        print(\"Account Name:\",self.name)\n",
        "        print(\"Account Balance:\",self.balance,\"Rs\")\n",
        "\n",
        "\n",
        "newAccount = BankAccount(12345678,\"Ashly\",3000)\n",
        "newAccount.Withdrawal(500)\n",
        "newAccount.Deposit(1000)\n",
        "newAccount.Display()\n"
      ],
      "metadata": {
        "colab": {
          "base_uri": "https://localhost:8080/"
        },
        "id": "lMSeXXCgwwGm",
        "outputId": "3a233a6f-37a4-4f3e-8d15-048e85873759"
      },
      "execution_count": 73,
      "outputs": [
        {
          "output_type": "stream",
          "name": "stdout",
          "text": [
            "Account Number: 12345678\n",
            "Account Name: Ashly\n",
            "Account Balance: 3500 Rs\n"
          ]
        }
      ]
    }
  ]
}