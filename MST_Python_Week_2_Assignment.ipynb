{
  "cells": [
    {
      "cell_type": "markdown",
      "metadata": {
        "id": "Z4V0KbFV2eKR"
      },
      "source": [
        "**Question.1**"
      ]
    },
    {
      "cell_type": "markdown",
      "metadata": {
        "id": "9QmaZU253BJU"
      },
      "source": [
        "**(1)**"
      ]
    },
    {
      "cell_type": "code",
      "source": [
        "secretNumber=7\n",
        "print(\"secretNumber:\",secretNumber)"
      ],
      "metadata": {
        "colab": {
          "base_uri": "https://localhost:8080/"
        },
        "id": "MAATzlkr0rKI",
        "outputId": "56faee9b-7869-436c-a350-f268ebae102b"
      },
      "execution_count": 102,
      "outputs": [
        {
          "output_type": "stream",
          "name": "stdout",
          "text": [
            "secretNumber: 7\n"
          ]
        }
      ]
    },
    {
      "cell_type": "markdown",
      "metadata": {
        "id": "RaOndu7a5jMS"
      },
      "source": [
        "**(2)**"
      ]
    },
    {
      "cell_type": "code",
      "execution_count": 103,
      "metadata": {
        "colab": {
          "base_uri": "https://localhost:8080/"
        },
        "id": "-T6-1PWmbW4I",
        "outputId": "eb5bda88-ccd4-4391-eb28-610411fdd639"
      },
      "outputs": [
        {
          "output_type": "stream",
          "name": "stdout",
          "text": [
            "enter a number between 1 and 10 \n",
            "5\n",
            "number is: 5\n"
          ]
        }
      ],
      "source": [
        "guess=int(input(\"enter a number between 1 and 10 \\n\"))\n",
        "print(\"number is:\",guess)\n",
        "\n",
        "\n",
        "\n"
      ]
    },
    {
      "cell_type": "markdown",
      "metadata": {
        "id": "VxPg76modqlj"
      },
      "source": [
        "**(3)**"
      ]
    },
    {
      "cell_type": "code",
      "execution_count": null,
      "metadata": {
        "id": "dau0eIPovOXe"
      },
      "outputs": [],
      "source": [
        "\n",
        "guess =int(input(\"guess a number between 1 and 10:\"))\n",
        "\n",
        "if guess == secretNumber:\n",
        "    print(\"Congratulations! You guessed the number correctly! \\n\")\n",
        "\n",
        "elif guess > secretNumber:\n",
        "    print(\"Too high! Try again\")\n",
        "else:\n",
        "    (guess<secretNumber)\n",
        "    print(\"Too low! Try again\")"
      ]
    },
    {
      "cell_type": "markdown",
      "metadata": {
        "id": "hfmbBnZEvIdH"
      },
      "source": [
        "**(4)**"
      ]
    },
    {
      "cell_type": "code",
      "source": [
        "while True:\n",
        "  guess =int(input(\"guess a number between 1 and 10:\"))\n",
        "\n",
        "  if guess == secretNumber:\n",
        "    print(\"Congratulations! You guessed the number correctly! \\n\")\n",
        "    break\n",
        "  elif guess > secretNumber:\n",
        "    print(\"Too high! Try again\")\n",
        "  else:\n",
        "    (guess<secretNumber)\n",
        "    print(\"Too low! Try again\")"
      ],
      "metadata": {
        "colab": {
          "base_uri": "https://localhost:8080/"
        },
        "id": "XsnpmDKW1sfE",
        "outputId": "9feea022-be17-4d93-b5fc-75402c6f16a2"
      },
      "execution_count": 107,
      "outputs": [
        {
          "output_type": "stream",
          "name": "stdout",
          "text": [
            "guess a number between 1 and 10:9\n",
            "Too high! Try again\n",
            "guess a number between 1 and 10:5\n",
            "Too low! Try again\n",
            "guess a number between 1 and 10:7\n",
            "Congratulations! You guessed the number correctly! \n",
            "\n"
          ]
        }
      ]
    },
    {
      "cell_type": "markdown",
      "metadata": {
        "id": "ILk8RltmtX5g"
      },
      "source": [
        "**(5)**"
      ]
    },
    {
      "cell_type": "code",
      "source": [
        "while True:\n",
        "  guess =int(input(\"guess a number between 1 and 10:\"))\n",
        "\n",
        "  if guess == secretNumber:\n",
        "    print(\"Congratulations! You guessed the number correctly! \\n\")\n",
        "    break\n",
        "  elif guess > secretNumber:\n",
        "    print(\"Too high! Try again\")\n",
        "  else:\n",
        "    (guess<secretNumber)\n",
        "    print(\"Too low! Try again\")"
      ],
      "metadata": {
        "colab": {
          "base_uri": "https://localhost:8080/"
        },
        "id": "RJqvoNayVa-m",
        "outputId": "69a32b39-0cf5-4d78-b8c5-bf87a54f0c9f"
      },
      "execution_count": 106,
      "outputs": [
        {
          "output_type": "stream",
          "name": "stdout",
          "text": [
            "guess a number between 1 and 10:3\n",
            "Too low! Try again\n",
            "guess a number between 1 and 10:4\n",
            "Too low! Try again\n",
            "guess a number between 1 and 10:5\n",
            "Too low! Try again\n",
            "guess a number between 1 and 10:6\n",
            "Too low! Try again\n",
            "guess a number between 1 and 10:8\n",
            "Too high! Try again\n",
            "guess a number between 1 and 10:7\n",
            "Congratulations! You guessed the number correctly! \n",
            "\n"
          ]
        }
      ]
    },
    {
      "cell_type": "markdown",
      "source": [
        "**Question.2**"
      ],
      "metadata": {
        "id": "x66Z_zEOWzCN"
      }
    },
    {
      "cell_type": "code",
      "source": [
        "num=int(input(\"enter a number:\"))\n",
        "factorial = 1\n",
        "if num < 0:\n",
        "    print(\"sorry,factorial doesn't exist for negative numbers \")\n",
        "elif num == 0:\n",
        "    print(\"the factorial of 0 is 1\")\n",
        "else:\n",
        "    for i in range(1,num+1):\n",
        "        factorial = factorial * i\n",
        "    print(\"The factorial of\",num,\"is\",factorial)\n"
      ],
      "metadata": {
        "colab": {
          "base_uri": "https://localhost:8080/"
        },
        "id": "hrzllGaQW_A7",
        "outputId": "ba8b1d41-2f9f-4634-d6b7-4a7abdbdf582"
      },
      "execution_count": null,
      "outputs": [
        {
          "output_type": "stream",
          "name": "stdout",
          "text": [
            "enter a number:5\n",
            "The factorial of 5 is 120\n"
          ]
        }
      ]
    },
    {
      "cell_type": "code",
      "source": [],
      "metadata": {
        "id": "E4sY-vQASQ4J"
      },
      "execution_count": null,
      "outputs": []
    },
    {
      "cell_type": "markdown",
      "source": [
        " #minimum dimension of the picture is L*L.\n",
        " #L is the length of the side of square.\n",
        " #N photos.Dimension of photo is W*H.\n",
        " #where W is width of photo, H is height of photo."
      ],
      "metadata": {
        "id": "tCXOKW4KTAx9"
      }
    },
    {
      "cell_type": "markdown",
      "source": [
        "**[1]** #UPLOAD ANOTHER"
      ],
      "metadata": {
        "id": "Q7X46n7dToAy"
      }
    },
    {
      "cell_type": "code",
      "source": [
        "H=10\n",
        "W=15\n",
        "\n",
        "\n"
      ],
      "metadata": {
        "id": "gZYxYf5GeyA1"
      },
      "execution_count": 78,
      "outputs": []
    },
    {
      "cell_type": "code",
      "source": [
        "L= int(input(\"length is:\\n\"))\n",
        "N= int(input(\"no.of photos:\\n\"))\n",
        "i=1\n",
        "while i<N:\n",
        "   number =(input().split())\n",
        "   H=int(number[0])\n",
        "   N=int(number[0])\n",
        "\n",
        "   if W < L or H < L:\n",
        "      print(\"UPLOAD ANOTHER\")\n",
        "      break\n",
        "   else:\n",
        "      print(\"exit\")\n",
        "      break\n",
        "i+=1\n",
        "\n"
      ],
      "metadata": {
        "colab": {
          "base_uri": "https://localhost:8080/"
        },
        "id": "KuO6rWgHTr-V",
        "outputId": "68798775-9698-4393-e7f6-8828001a116e"
      },
      "execution_count": 66,
      "outputs": [
        {
          "output_type": "stream",
          "name": "stdout",
          "text": [
            "length is:\n",
            "60\n",
            "no.of photos:\n",
            "70\n",
            "80\n",
            "UPLOAD ANOTHER\n"
          ]
        }
      ]
    },
    {
      "cell_type": "markdown",
      "source": [
        "**(2)**"
      ],
      "metadata": {
        "id": "7SwF5PbvqmwY"
      }
    },
    {
      "cell_type": "markdown",
      "source": [
        "**(a)**"
      ],
      "metadata": {
        "id": "ex0Ba1KysN4Y"
      }
    },
    {
      "cell_type": "code",
      "source": [
        "L= int(input(\"length is:\\n\"))\n",
        "N= int(input(\"no.of photos:\\n\"))\n",
        "i=1\n",
        "while i<N:\n",
        "   number =(input().split())\n",
        "   H=int(number[0])\n",
        "   W=int(number[0])\n",
        "   if (H == W):\n",
        "      print(\"ACCEPTED\")\n",
        "      break\n",
        "   else:\n",
        "      print(\"EXIT\")\n",
        "      break\n",
        ""
      ],
      "metadata": {
        "colab": {
          "base_uri": "https://localhost:8080/"
        },
        "id": "enz0OBahsSIG",
        "outputId": "13c4b2eb-5f99-47b8-a72e-65bfd090e87f"
      },
      "execution_count": 95,
      "outputs": [
        {
          "output_type": "stream",
          "name": "stdout",
          "text": [
            "length is:\n",
            "10\n",
            "no.of photos:\n",
            "15\n",
            "12\n",
            "ACCEPTED\n"
          ]
        }
      ]
    },
    {
      "cell_type": "markdown",
      "source": [
        "**(b)**"
      ],
      "metadata": {
        "id": "wQzCmeVzq4UY"
      }
    },
    {
      "cell_type": "code",
      "source": [
        "L= int(input(\"length is:\\n\"))\n",
        "N= int(input(\"no.of photos:\\n\"))\n",
        "i=1\n",
        "while i<N:\n",
        "   number =(input().split())\n",
        "   H=int(number[0])\n",
        "   W=int(number[0])\n",
        "\n",
        "   if W>L and H>L :\n",
        "     print(\"CROP IT\")\n",
        "     break\n",
        "   else:\n",
        "     print(\"exit\")\n",
        "     break"
      ],
      "metadata": {
        "colab": {
          "base_uri": "https://localhost:8080/"
        },
        "id": "uh0TpU_7q9LQ",
        "outputId": "ab7c85f7-25e8-4f37-b8e5-3139fa66889b"
      },
      "execution_count": 97,
      "outputs": [
        {
          "output_type": "stream",
          "name": "stdout",
          "text": [
            "length is:\n",
            "5\n",
            "no.of photos:\n",
            "6\n",
            "7\n",
            "CROP IT\n"
          ]
        }
      ]
    }
  ],
  "metadata": {
    "colab": {
      "provenance": []
    },
    "kernelspec": {
      "display_name": "Python 3",
      "name": "python3"
    },
    "language_info": {
      "name": "python"
    }
  },
  "nbformat": 4,
  "nbformat_minor": 0
}