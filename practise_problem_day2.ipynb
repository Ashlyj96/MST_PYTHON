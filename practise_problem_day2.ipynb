{
  "nbformat": 4,
  "nbformat_minor": 0,
  "metadata": {
    "colab": {
      "provenance": []
    },
    "kernelspec": {
      "name": "python3",
      "display_name": "Python 3"
    },
    "language_info": {
      "name": "python"
    }
  },
  "cells": [
    {
      "cell_type": "code",
      "execution_count": null,
      "metadata": {
        "id": "DYQO6SD1t_GK"
      },
      "outputs": [],
      "source": []
    },
    {
      "cell_type": "markdown",
      "source": [
        "**Question.1**\n"
      ],
      "metadata": {
        "id": "7i-7N_56t_3z"
      }
    },
    {
      "cell_type": "code",
      "source": [
        "list =[1,2,3,4,5,6,7]\n",
        "print(list)\n",
        "print(type(list))"
      ],
      "metadata": {
        "colab": {
          "base_uri": "https://localhost:8080/"
        },
        "id": "Ej8D-b5CuFOR",
        "outputId": "cf37f72c-e570-4109-fd88-6fc6bf1be5d4"
      },
      "execution_count": null,
      "outputs": [
        {
          "output_type": "stream",
          "name": "stdout",
          "text": [
            "[1, 2, 3, 4, 5, 6, 7]\n",
            "<class 'list'>\n"
          ]
        }
      ]
    },
    {
      "cell_type": "code",
      "source": [
        "intsum =sum(list)\n",
        "print('sum is:' ,intsum)"
      ],
      "metadata": {
        "colab": {
          "base_uri": "https://localhost:8080/"
        },
        "id": "-E-j6hBAvScY",
        "outputId": "fd23d38e-8df2-4b02-896e-7a08eb0cf7ee"
      },
      "execution_count": null,
      "outputs": [
        {
          "output_type": "stream",
          "name": "stdout",
          "text": [
            "sum is: 28\n"
          ]
        }
      ]
    },
    {
      "cell_type": "markdown",
      "source": [
        "**Question.2**"
      ],
      "metadata": {
        "id": "lJftg2-Gv25e"
      }
    },
    {
      "cell_type": "code",
      "source": [
        "string =\"Good Morning\"\n",
        "print(string)"
      ],
      "metadata": {
        "colab": {
          "base_uri": "https://localhost:8080/"
        },
        "id": "gnuhJkc6v8_K",
        "outputId": "98c29017-85a6-4a33-ed0c-5c9b236a6d8e"
      },
      "execution_count": null,
      "outputs": [
        {
          "output_type": "stream",
          "name": "stdout",
          "text": [
            "Good Morning\n"
          ]
        }
      ]
    },
    {
      "cell_type": "markdown",
      "source": [
        "**(a)**"
      ],
      "metadata": {
        "id": "dGA4ImO2xKiF"
      }
    },
    {
      "cell_type": "code",
      "source": [
        "print(len(string))\n"
      ],
      "metadata": {
        "colab": {
          "base_uri": "https://localhost:8080/"
        },
        "id": "jCZed5hmxR_y",
        "outputId": "1c5546b9-4ae1-4574-fd5f-fbf867396935"
      },
      "execution_count": null,
      "outputs": [
        {
          "output_type": "stream",
          "name": "stdout",
          "text": [
            "12\n"
          ]
        }
      ]
    },
    {
      "cell_type": "code",
      "source": [],
      "metadata": {
        "id": "n2x622B8w7XA"
      },
      "execution_count": null,
      "outputs": []
    },
    {
      "cell_type": "markdown",
      "source": [
        "**(b)**"
      ],
      "metadata": {
        "id": "QK1JlxZxxl5d"
      }
    },
    {
      "cell_type": "code",
      "source": [
        "print(string)"
      ],
      "metadata": {
        "colab": {
          "base_uri": "https://localhost:8080/"
        },
        "id": "SREZxpW5xqgA",
        "outputId": "8b8acef1-463e-4afe-bcb3-4381308b97fa"
      },
      "execution_count": null,
      "outputs": [
        {
          "output_type": "stream",
          "name": "stdout",
          "text": [
            "Good Morning\n"
          ]
        }
      ]
    },
    {
      "cell_type": "code",
      "source": [
        "first_res ,second_res = string[:len(string)//3], string[len(string)//3:]\n",
        "print(\"first part of string:\"  +first_res)"
      ],
      "metadata": {
        "colab": {
          "base_uri": "https://localhost:8080/"
        },
        "id": "I1zXg9m01N3p",
        "outputId": "28949937-6683-40e2-c9d4-b5cfdb68c0da"
      },
      "execution_count": null,
      "outputs": [
        {
          "output_type": "stream",
          "name": "stdout",
          "text": [
            "first part of string:Good\n"
          ]
        }
      ]
    },
    {
      "cell_type": "markdown",
      "source": [
        "**Question.3**"
      ],
      "metadata": {
        "id": "I23W-9S65Wm2"
      }
    },
    {
      "cell_type": "markdown",
      "source": [
        "**Tuples are unchangeable or immutable.\n",
        "Once a tuple is created ,we cannot change its value.**"
      ],
      "metadata": {
        "id": "GeONxP3G5p36"
      }
    },
    {
      "cell_type": "markdown",
      "source": [
        "**Question.4**"
      ],
      "metadata": {
        "id": "sZr1-rJi6Ymr"
      }
    },
    {
      "cell_type": "markdown",
      "source": [
        "**(a)**"
      ],
      "metadata": {
        "id": "-MwH0tKvcAgv"
      }
    },
    {
      "cell_type": "code",
      "source": [
        "A=[19,32,10,55,31,32,94,29,10,65,77,40,40]\n",
        "print(A)"
      ],
      "metadata": {
        "colab": {
          "base_uri": "https://localhost:8080/"
        },
        "id": "PIgdSHSqiZPG",
        "outputId": "e36d06e6-d590-4851-ddd4-cf12b09be82b"
      },
      "execution_count": null,
      "outputs": [
        {
          "output_type": "stream",
          "name": "stdout",
          "text": [
            "[19, 32, 10, 55, 31, 32, 94, 29, 10, 65, 77, 40, 40]\n"
          ]
        }
      ]
    },
    {
      "cell_type": "code",
      "source": [
        "A.remove(32)\n",
        "print(A)"
      ],
      "metadata": {
        "colab": {
          "base_uri": "https://localhost:8080/"
        },
        "id": "Ia_zVk78izQ7",
        "outputId": "abf31126-dbeb-432c-d178-40eed0276afa"
      },
      "execution_count": null,
      "outputs": [
        {
          "output_type": "stream",
          "name": "stdout",
          "text": [
            "[19, 10, 55, 31, 32, 94, 29, 10, 65, 77, 40, 40]\n"
          ]
        }
      ]
    },
    {
      "cell_type": "markdown",
      "source": [
        "**(b)**"
      ],
      "metadata": {
        "id": "eoHLex3_cU6g"
      }
    },
    {
      "cell_type": "code",
      "source": [
        "print(A)"
      ],
      "metadata": {
        "colab": {
          "base_uri": "https://localhost:8080/"
        },
        "id": "QE8F5MHAjBXM",
        "outputId": "dd6cfd31-f186-457f-9746-b745ac644418"
      },
      "execution_count": null,
      "outputs": [
        {
          "output_type": "stream",
          "name": "stdout",
          "text": [
            "[19, 10, 55, 31, 32, 94, 29, 10, 65, 77, 40, 40]\n"
          ]
        }
      ]
    },
    {
      "cell_type": "code",
      "source": [
        "A.remove(40)\n",
        "print(A)"
      ],
      "metadata": {
        "colab": {
          "base_uri": "https://localhost:8080/"
        },
        "id": "VgRpf2WBjNoG",
        "outputId": "84bac75e-7bd7-4546-bec9-6b0b7eec810a"
      },
      "execution_count": null,
      "outputs": [
        {
          "output_type": "stream",
          "name": "stdout",
          "text": [
            "[19, 10, 55, 31, 32, 94, 29, 10, 65, 77]\n"
          ]
        }
      ]
    },
    {
      "cell_type": "markdown",
      "source": [
        "**(c)**"
      ],
      "metadata": {
        "id": "ymXBRmseAeWq"
      }
    },
    {
      "cell_type": "code",
      "source": [
        "print(A)\n"
      ],
      "metadata": {
        "colab": {
          "base_uri": "https://localhost:8080/"
        },
        "id": "Q-bSJM0AjiIJ",
        "outputId": "106bf97a-7c9f-4868-84d2-d4cec88c1f4f"
      },
      "execution_count": null,
      "outputs": [
        {
          "output_type": "stream",
          "name": "stdout",
          "text": [
            "[19, 10, 55, 31, 32, 94, 29, 10, 65, 77]\n"
          ]
        }
      ]
    },
    {
      "cell_type": "code",
      "source": [
        "A.pop(5)"
      ],
      "metadata": {
        "colab": {
          "base_uri": "https://localhost:8080/"
        },
        "id": "v1b_fZcHjmus",
        "outputId": "88858a10-8405-4cc2-b8cc-7192d032c868"
      },
      "execution_count": null,
      "outputs": [
        {
          "output_type": "execute_result",
          "data": {
            "text/plain": [
              "94"
            ]
          },
          "metadata": {},
          "execution_count": 119
        }
      ]
    },
    {
      "cell_type": "code",
      "source": [
        "print(A)"
      ],
      "metadata": {
        "colab": {
          "base_uri": "https://localhost:8080/"
        },
        "id": "STzpuJzWjuiT",
        "outputId": "0bce4862-7f37-40ba-9582-484f63a6b1a6"
      },
      "execution_count": null,
      "outputs": [
        {
          "output_type": "stream",
          "name": "stdout",
          "text": [
            "[19, 10, 55, 31, 32, 29, 10, 65, 77]\n"
          ]
        }
      ]
    },
    {
      "cell_type": "markdown",
      "source": [
        "**(d)**"
      ],
      "metadata": {
        "id": "tCx2tZUcB3GU"
      }
    },
    {
      "cell_type": "code",
      "source": [
        "print(A)"
      ],
      "metadata": {
        "colab": {
          "base_uri": "https://localhost:8080/"
        },
        "id": "TO1WH5IwjzJH",
        "outputId": "ea44684f-167a-48f7-b2a8-9b89b3896e78"
      },
      "execution_count": null,
      "outputs": [
        {
          "output_type": "stream",
          "name": "stdout",
          "text": [
            "[19, 10, 55, 31, 32, 29, 10, 65, 77]\n"
          ]
        }
      ]
    },
    {
      "cell_type": "code",
      "source": [
        "A.insert(9,300)\n",
        "print(A)"
      ],
      "metadata": {
        "colab": {
          "base_uri": "https://localhost:8080/"
        },
        "id": "3aLknxrKj-UG",
        "outputId": "377f8c6c-a5d4-4ea2-f61f-3d7f0d78882e"
      },
      "execution_count": null,
      "outputs": [
        {
          "output_type": "stream",
          "name": "stdout",
          "text": [
            "[19, 10, 55, 31, 32, 29, 10, 65, 77, 300]\n"
          ]
        }
      ]
    },
    {
      "cell_type": "markdown",
      "source": [
        "**(e)**"
      ],
      "metadata": {
        "id": "tZAcwCF1SNCh"
      }
    },
    {
      "cell_type": "code",
      "source": [
        "A.insert(2,200)\n",
        "print(A)"
      ],
      "metadata": {
        "colab": {
          "base_uri": "https://localhost:8080/"
        },
        "id": "YfI-ybyyk6cM",
        "outputId": "276a2bb9-9fb1-4252-c13c-320e054fff28"
      },
      "execution_count": null,
      "outputs": [
        {
          "output_type": "stream",
          "name": "stdout",
          "text": [
            "[19, 10, 200, 55, 31, 32, 29, 10, 65, 77, 300]\n"
          ]
        }
      ]
    },
    {
      "cell_type": "markdown",
      "source": [
        "**(f)**"
      ],
      "metadata": {
        "id": "WNcFG4tZS8W3"
      }
    },
    {
      "cell_type": "markdown",
      "source": [
        "**Length**"
      ],
      "metadata": {
        "id": "9pdIv4Z8UPl4"
      }
    },
    {
      "cell_type": "code",
      "source": [
        "print(A)"
      ],
      "metadata": {
        "colab": {
          "base_uri": "https://localhost:8080/"
        },
        "id": "9YZHh4G6lNye",
        "outputId": "e5faeffb-53e7-4c81-f135-332938891ded"
      },
      "execution_count": null,
      "outputs": [
        {
          "output_type": "stream",
          "name": "stdout",
          "text": [
            "[19, 10, 200, 55, 31, 32, 29, 10, 65, 77, 300]\n"
          ]
        }
      ]
    },
    {
      "cell_type": "code",
      "source": [
        "print(len(A))"
      ],
      "metadata": {
        "colab": {
          "base_uri": "https://localhost:8080/"
        },
        "id": "DLA-2mgClT5a",
        "outputId": "4dadcaea-7a38-46c9-d1ab-20696fcb3af7"
      },
      "execution_count": null,
      "outputs": [
        {
          "output_type": "stream",
          "name": "stdout",
          "text": [
            "11\n"
          ]
        }
      ]
    },
    {
      "cell_type": "markdown",
      "source": [
        "**Maximum value**"
      ],
      "metadata": {
        "id": "JpBdCSJqUIVw"
      }
    },
    {
      "cell_type": "code",
      "source": [
        "print(max(A))"
      ],
      "metadata": {
        "colab": {
          "base_uri": "https://localhost:8080/"
        },
        "id": "ufVU0SgAlqWd",
        "outputId": "8233fc3a-9ae0-41a0-b601-39d2486b3618"
      },
      "execution_count": null,
      "outputs": [
        {
          "output_type": "stream",
          "name": "stdout",
          "text": [
            "300\n"
          ]
        }
      ]
    },
    {
      "cell_type": "markdown",
      "source": [
        "**Sum**"
      ],
      "metadata": {
        "id": "aKDqFMRdUXG5"
      }
    },
    {
      "cell_type": "code",
      "source": [
        "print(A)\n"
      ],
      "metadata": {
        "colab": {
          "base_uri": "https://localhost:8080/"
        },
        "id": "u3owXDuPlxJ1",
        "outputId": "6fd8a7bd-0927-4635-9654-f22427f9413a"
      },
      "execution_count": null,
      "outputs": [
        {
          "output_type": "stream",
          "name": "stdout",
          "text": [
            "[19, 10, 200, 55, 31, 32, 29, 10, 65, 77, 300]\n"
          ]
        }
      ]
    },
    {
      "cell_type": "code",
      "source": [
        "intsum1 =sum(A)\n",
        "print(\"sum:\",intsum1)"
      ],
      "metadata": {
        "colab": {
          "base_uri": "https://localhost:8080/"
        },
        "id": "z0JvblVtl_tN",
        "outputId": "71fc904f-0fc9-4c3e-e430-c32244123b39"
      },
      "execution_count": null,
      "outputs": [
        {
          "output_type": "stream",
          "name": "stdout",
          "text": [
            "sum: 828\n"
          ]
        }
      ]
    },
    {
      "cell_type": "markdown",
      "source": [
        "**Question.5**"
      ],
      "metadata": {
        "id": "amJlvnemVVPI"
      }
    },
    {
      "cell_type": "markdown",
      "source": [
        "**(a)**"
      ],
      "metadata": {
        "id": "2jjVK4gbVgUP"
      }
    },
    {
      "cell_type": "code",
      "source": [
        "string =\"The day has been long\"\n",
        "print(string)\n"
      ],
      "metadata": {
        "colab": {
          "base_uri": "https://localhost:8080/"
        },
        "id": "qiwV3O0IVmSB",
        "outputId": "5915856a-7fd3-41aa-c6f8-a39252210917"
      },
      "execution_count": null,
      "outputs": [
        {
          "output_type": "stream",
          "name": "stdout",
          "text": [
            "The day has been long\n"
          ]
        }
      ]
    },
    {
      "cell_type": "code",
      "source": [
        "string=\"The day has been long\"\n",
        "new_str=string[:4] + string[5:]\n",
        "print(\"string after delete of 4th character:\" +new_str)"
      ],
      "metadata": {
        "colab": {
          "base_uri": "https://localhost:8080/"
        },
        "id": "OF81himuxL3c",
        "outputId": "59bd086d-ebcb-4ed6-fd48-11f7de03dba6"
      },
      "execution_count": null,
      "outputs": [
        {
          "output_type": "stream",
          "name": "stdout",
          "text": [
            "string after delete of 4th character:The ay has been long\n"
          ]
        }
      ]
    },
    {
      "cell_type": "markdown",
      "source": [
        "**(b)**"
      ],
      "metadata": {
        "id": "Q2Xn_6Z-1Jfw"
      }
    },
    {
      "cell_type": "code",
      "source": [
        "print(new_str)"
      ],
      "metadata": {
        "colab": {
          "base_uri": "https://localhost:8080/"
        },
        "id": "92EI1fRT6iRn",
        "outputId": "53155276-ba61-4ded-a6ec-e01538c31800"
      },
      "execution_count": null,
      "outputs": [
        {
          "output_type": "stream",
          "name": "stdout",
          "text": [
            "The ay has been long\n"
          ]
        }
      ]
    },
    {
      "cell_type": "code",
      "source": [
        "print(new_str * 4)"
      ],
      "metadata": {
        "colab": {
          "base_uri": "https://localhost:8080/"
        },
        "id": "6yNJJ5KA8H1I",
        "outputId": "21655c8b-d61f-4959-bde8-9ab18fa16edf"
      },
      "execution_count": null,
      "outputs": [
        {
          "output_type": "stream",
          "name": "stdout",
          "text": [
            "The ay has been longThe ay has been longThe ay has been longThe ay has been long\n"
          ]
        }
      ]
    },
    {
      "cell_type": "code",
      "source": [
        "'  '.join([new_str]* 4)"
      ],
      "metadata": {
        "colab": {
          "base_uri": "https://localhost:8080/",
          "height": 36
        },
        "id": "Eka4JilU8QuZ",
        "outputId": "3b37d66f-3408-41b0-ec35-37a43f3f5ef3"
      },
      "execution_count": null,
      "outputs": [
        {
          "output_type": "execute_result",
          "data": {
            "text/plain": [
              "'The ay has been long  The ay has been long  The ay has been long  The ay has been long'"
            ],
            "application/vnd.google.colaboratory.intrinsic+json": {
              "type": "string"
            }
          },
          "metadata": {},
          "execution_count": 252
        }
      ]
    },
    {
      "cell_type": "markdown",
      "source": [
        "**(c)**"
      ],
      "metadata": {
        "id": "M3j9w9H0-QT5"
      }
    },
    {
      "cell_type": "code",
      "source": [
        "print(new_str)"
      ],
      "metadata": {
        "colab": {
          "base_uri": "https://localhost:8080/"
        },
        "id": "AZnFL7MLAAVw",
        "outputId": "d920ffad-7863-463a-f0ec-e89ff1ff45e7"
      },
      "execution_count": null,
      "outputs": [
        {
          "output_type": "stream",
          "name": "stdout",
          "text": [
            "The ay has been long\n"
          ]
        }
      ]
    },
    {
      "cell_type": "code",
      "source": [
        "print(\"The ay has been long\\n\"*3)\n"
      ],
      "metadata": {
        "colab": {
          "base_uri": "https://localhost:8080/"
        },
        "id": "mPkeEB2tC8UP",
        "outputId": "bb0b152e-5fd1-4a99-b686-a614ab21d737"
      },
      "execution_count": null,
      "outputs": [
        {
          "output_type": "stream",
          "name": "stdout",
          "text": [
            "The ay has been long\n",
            "The ay has been long\n",
            "The ay has been long\n",
            "\n"
          ]
        }
      ]
    },
    {
      "cell_type": "markdown",
      "source": [
        "**(d)**"
      ],
      "metadata": {
        "id": "XL0-kB74EItv"
      }
    },
    {
      "cell_type": "code",
      "source": [
        "print(new_str)"
      ],
      "metadata": {
        "colab": {
          "base_uri": "https://localhost:8080/"
        },
        "id": "3KYOCew9EPez",
        "outputId": "c07b06db-4755-4bc3-82cb-6f950b341ec3"
      },
      "execution_count": null,
      "outputs": [
        {
          "output_type": "stream",
          "name": "stdout",
          "text": [
            "The ay has been long\n"
          ]
        }
      ]
    },
    {
      "cell_type": "code",
      "source": [
        "k='A'\n",
        "i=7"
      ],
      "metadata": {
        "id": "SD3-uLdWEld6"
      },
      "execution_count": null,
      "outputs": []
    },
    {
      "cell_type": "code",
      "source": [
        "res=new_str[:i] + k +new_str[i+1:]\n",
        "print(res)"
      ],
      "metadata": {
        "colab": {
          "base_uri": "https://localhost:8080/"
        },
        "id": "fIiEMV0QFbjy",
        "outputId": "b6f7d107-5696-40a4-c884-70c298027a03"
      },
      "execution_count": null,
      "outputs": [
        {
          "output_type": "stream",
          "name": "stdout",
          "text": [
            "The ay Aas been long\n"
          ]
        }
      ]
    },
    {
      "cell_type": "markdown",
      "source": [
        "**(e)**"
      ],
      "metadata": {
        "id": "jkgKUQHcGMjh"
      }
    },
    {
      "cell_type": "code",
      "source": [
        "print(res)"
      ],
      "metadata": {
        "colab": {
          "base_uri": "https://localhost:8080/"
        },
        "id": "cTBbGNDdGQ8n",
        "outputId": "92db4e3a-034f-4338-a451-f0f404ed6635"
      },
      "execution_count": null,
      "outputs": [
        {
          "output_type": "stream",
          "name": "stdout",
          "text": [
            "The ay Aas been long\n"
          ]
        }
      ]
    },
    {
      "cell_type": "code",
      "source": [
        "print(res[4:15])"
      ],
      "metadata": {
        "colab": {
          "base_uri": "https://localhost:8080/"
        },
        "id": "yVltTJfUGyVq",
        "outputId": "94a72bf2-e1cd-4b73-f729-fba224d95ea0"
      },
      "execution_count": null,
      "outputs": [
        {
          "output_type": "stream",
          "name": "stdout",
          "text": [
            "ay Aas been\n"
          ]
        }
      ]
    },
    {
      "cell_type": "markdown",
      "source": [
        "**(f)**"
      ],
      "metadata": {
        "id": "isghaexQHTe3"
      }
    },
    {
      "cell_type": "code",
      "source": [
        "print(len(res[4:15]))"
      ],
      "metadata": {
        "colab": {
          "base_uri": "https://localhost:8080/"
        },
        "id": "BAULS2ciHY-U",
        "outputId": "aab9b8a3-693d-44e1-8963-efd4da83a683"
      },
      "execution_count": null,
      "outputs": [
        {
          "output_type": "stream",
          "name": "stdout",
          "text": [
            "11\n"
          ]
        }
      ]
    }
  ]
}