{
  "cells": [
    {
      "cell_type": "markdown",
      "metadata": {
        "id": "sON1H17RWgBC"
      },
      "source": [
        "**Question.1**"
      ]
    },
    {
      "cell_type": "code",
      "execution_count": 1,
      "metadata": {
        "colab": {
          "base_uri": "https://localhost:8080/"
        },
        "id": "As4pfR9tZ09A",
        "outputId": "35651872-3e7a-4454-81be-c6d67daf562f"
      },
      "outputs": [
        {
          "output_type": "stream",
          "name": "stdout",
          "text": [
            "runner-up score: 60\n"
          ]
        }
      ],
      "source": [
        "n=5\n",
        "arr=[40,30,60,70,50]\n",
        "arr.sort(reverse = True)\n",
        "largest = arr[0]\n",
        "for ele in arr[1 : ]:\n",
        "  if ele < largest:\n",
        "    print(\"runner-up score:\",ele)\n",
        "    break"
      ]
    },
    {
      "cell_type": "markdown",
      "metadata": {
        "id": "QC2tQvErdKXN"
      },
      "source": [
        "**Question.2**"
      ]
    },
    {
      "cell_type": "code",
      "execution_count": 10,
      "metadata": {
        "colab": {
          "base_uri": "https://localhost:8080/"
        },
        "id": "RTYyXA-WdQRl",
        "outputId": "3932e166-f361-4691-b5a5-f9ba92ecbd1c"
      },
      "outputs": [
        {
          "output_type": "stream",
          "name": "stdout",
          "text": [
            "{'john': [25, 32, 43], 'peter': [87, 55, 96], 'ram': [58, 55, 43], 'meena': [63, 79, 85]}\n",
            "name not found\n",
            "{'john': [25, 32, 43], 'peter': [87, 55, 96], 'ram': [88, 77, 99], 'meena': [63, 79, 85]}\n"
          ]
        }
      ],
      "source": [
        "d={'john':[25,32,43],'peter':[87,55,96],'ram':[58,55,43],'meena':[63,79,85]}\n",
        "print(d)\n",
        "\n",
        "if (d.update(ram=[88,77,99])):\n",
        "  print(d)\n",
        "else:\n",
        "   print(\"name not found\")\n",
        "\n",
        "\n",
        "print(d)\n",
        "\n",
        "\n"
      ]
    },
    {
      "cell_type": "markdown",
      "metadata": {
        "id": "-56KyHUnlbkV"
      },
      "source": [
        "**Question.3**"
      ]
    },
    {
      "cell_type": "markdown",
      "source": [
        "**(1)**"
      ],
      "metadata": {
        "id": "VOO2mJClD5eh"
      }
    },
    {
      "cell_type": "code",
      "execution_count": 11,
      "metadata": {
        "colab": {
          "base_uri": "https://localhost:8080/"
        },
        "id": "sP9sqrx0lgOM",
        "outputId": "8f66faef-75c3-41d5-ea5b-a11931de3d4e"
      },
      "outputs": [
        {
          "name": "stdout",
          "output_type": "stream",
          "text": [
            "enter age of first person:\n",
            "4\n",
            "enter age of second person:\n",
            "10\n",
            "enter age of third person:\n",
            "33\n",
            "enter age of fourth person:\n",
            "66\n"
          ]
        }
      ],
      "source": [
        "age1=eval(input(\"enter age of first person:\\n\"))\n",
        "age2=eval(input(\"enter age of second person:\\n\"))\n",
        "age3=eval(input(\"enter age of third person:\\n\"))\n",
        "age4=eval(input(\"enter age of fourth person:\\n\"))\n",
        "\n"
      ]
    },
    {
      "cell_type": "markdown",
      "source": [
        "**(2)**"
      ],
      "metadata": {
        "id": "IUFGmyFFExia"
      }
    },
    {
      "cell_type": "markdown",
      "source": [
        "**(a)**"
      ],
      "metadata": {
        "id": "nsONJuGmImkg"
      }
    },
    {
      "cell_type": "code",
      "source": [
        "age=eval(input(\"enter your age:\\n\"))\n",
        "if (age<=5):\n",
        "  print(\"you get free\")\n",
        "else:\n",
        "  print(\"exit\")"
      ],
      "metadata": {
        "colab": {
          "base_uri": "https://localhost:8080/"
        },
        "id": "XboS0vimE88W",
        "outputId": "dabbbe34-1b78-4b3f-f0e6-78d92afbaf86"
      },
      "execution_count": 12,
      "outputs": [
        {
          "output_type": "stream",
          "name": "stdout",
          "text": [
            "enter your age:\n",
            "4\n",
            "you get free\n"
          ]
        }
      ]
    },
    {
      "cell_type": "markdown",
      "source": [
        "**(b)**"
      ],
      "metadata": {
        "id": "6eUgzIl-Irxm"
      }
    },
    {
      "cell_type": "code",
      "source": [
        "age=eval(input(\"enter your age:\\n\"))\n",
        "if (6<age<=12):\n",
        "   print(\"ticket price is 10\")\n",
        "else:\n",
        "  print(\"exit\")"
      ],
      "metadata": {
        "colab": {
          "base_uri": "https://localhost:8080/"
        },
        "id": "mvsBpSueIxOk",
        "outputId": "6e636b0d-cdeb-4615-bb99-0ed7262f1dbe"
      },
      "execution_count": 13,
      "outputs": [
        {
          "output_type": "stream",
          "name": "stdout",
          "text": [
            "enter your age:\n",
            "10\n",
            "ticket price is 10\n"
          ]
        }
      ]
    },
    {
      "cell_type": "markdown",
      "source": [
        "**(c)**"
      ],
      "metadata": {
        "id": "TsOjVI4DJ_od"
      }
    },
    {
      "cell_type": "code",
      "source": [
        "age=eval(input(\"enter your age:\\n\"))\n",
        "if (12<age<59):\n",
        "   print(\"ticket price is 50\")\n",
        "else:\n",
        "  print(\"exit\")"
      ],
      "metadata": {
        "colab": {
          "base_uri": "https://localhost:8080/"
        },
        "id": "zWYXVN13KGPJ",
        "outputId": "5afaa125-77e1-4fa6-83b6-521a1f33fe76"
      },
      "execution_count": 14,
      "outputs": [
        {
          "output_type": "stream",
          "name": "stdout",
          "text": [
            "enter your age:\n",
            "33\n",
            "ticket price is 50\n"
          ]
        }
      ]
    },
    {
      "cell_type": "markdown",
      "source": [
        "**(d)**"
      ],
      "metadata": {
        "id": "IZdT4Zc-LQuQ"
      }
    },
    {
      "cell_type": "code",
      "source": [
        "age=eval(input(\"enter your age:\\n\"))\n",
        "if (age>=60):\n",
        "   print(\"you get free \")\n",
        "else:\n",
        "  print(\"exit\")"
      ],
      "metadata": {
        "colab": {
          "base_uri": "https://localhost:8080/"
        },
        "id": "6D5zJz8HLV1l",
        "outputId": "99268702-e4f0-4d60-fff8-5855b89e193f"
      },
      "execution_count": 15,
      "outputs": [
        {
          "output_type": "stream",
          "name": "stdout",
          "text": [
            "enter your age:\n",
            "66\n",
            "you get free \n"
          ]
        }
      ]
    },
    {
      "cell_type": "markdown",
      "source": [
        "**(e)**"
      ],
      "metadata": {
        "id": "n-t7CHxHL4QD"
      }
    },
    {
      "cell_type": "code",
      "source": [
        "\n",
        "type=(input(\"is women?\\n\",))\n",
        "amount=float(input(\"enter ticket amount:\\n\"))\n",
        "total=0\n",
        "if type =='yes' or 'yes':\n",
        "  total+=amount-amount*50/100\n",
        "  print(total)\n",
        "else:\n",
        "  print(\"exit\")\n",
        "\n",
        "\n"
      ],
      "metadata": {
        "colab": {
          "base_uri": "https://localhost:8080/"
        },
        "id": "hNG6u0zkL9DE",
        "outputId": "8b22e043-2e43-49ad-cdcf-c13dce90e587"
      },
      "execution_count": 16,
      "outputs": [
        {
          "output_type": "stream",
          "name": "stdout",
          "text": [
            "is women?\n",
            "yes\n",
            "enter ticket amount:\n",
            "100\n",
            "50.0\n"
          ]
        }
      ]
    },
    {
      "cell_type": "markdown",
      "source": [
        "**(3)**"
      ],
      "metadata": {
        "id": "vBIDFH_sT9zb"
      }
    },
    {
      "cell_type": "code",
      "source": [
        "age1=eval(input(\"enter age of first person:\\n\"))\n",
        "age2=eval(input(\"enter age of second person:\\n\"))\n",
        "age3=eval(input(\"enter age of third person:\\n\"))\n",
        "age4=eval(input(\"enter age of fourth person:\\n\"))\n",
        "total=0\n",
        "ages =[age1,age2,age3,age4]\n",
        "for age in ages:\n",
        "  if(age<5):\n",
        "    total+=0\n",
        "  elif((6<age<=12)):\n",
        "    total+=+10\n",
        "  elif(12<age<59):\n",
        "    total+=+50\n",
        "  elif(age>=60):\n",
        "    total+=0\n",
        "print(\"total ticket price:\",total)\n"
      ],
      "metadata": {
        "colab": {
          "base_uri": "https://localhost:8080/"
        },
        "id": "g2f2OAACUDTi",
        "outputId": "667704ea-87c2-4f7e-da8d-58b6d76e16ed"
      },
      "execution_count": 17,
      "outputs": [
        {
          "output_type": "stream",
          "name": "stdout",
          "text": [
            "enter age of first person:\n",
            "4\n",
            "enter age of second person:\n",
            "10\n",
            "enter age of third person:\n",
            "33\n",
            "enter age of fourth person:\n",
            "66\n",
            "total ticket price: 60\n"
          ]
        }
      ]
    }
  ],
  "metadata": {
    "colab": {
      "provenance": []
    },
    "kernelspec": {
      "display_name": "Python 3",
      "name": "python3"
    },
    "language_info": {
      "name": "python"
    }
  },
  "nbformat": 4,
  "nbformat_minor": 0
}